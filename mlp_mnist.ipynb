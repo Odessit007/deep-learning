{
  "nbformat": 4,
  "nbformat_minor": 0,
  "metadata": {
    "colab": {
      "name": "mlp_mnist.ipynb",
      "version": "0.3.2",
      "provenance": [],
      "collapsed_sections": []
    },
    "kernelspec": {
      "name": "python3",
      "display_name": "Python 3"
    },
    "accelerator": "GPU"
  },
  "cells": [
    {
      "metadata": {
        "id": "3VBmOnNxEGNC",
        "colab_type": "code",
        "colab": {}
      },
      "cell_type": "code",
      "source": [
        "# !pip install pydot\n",
        "# !apt-get install graphviz\n",
        "# !pip install scikit-image"
      ],
      "execution_count": 0,
      "outputs": []
    },
    {
      "metadata": {
        "id": "Cy2lYJe3EHp7",
        "colab_type": "code",
        "colab": {
          "base_uri": "https://localhost:8080/",
          "height": 34
        },
        "outputId": "f7d6d3c5-5bd0-4e0c-f96c-eb92ced6a88f"
      },
      "cell_type": "code",
      "source": [
        "# Code is based on https://github.com/keras-team/keras/blob/master/examples/mnist_mlp.py\n",
        "\n",
        "import keras\n",
        "from keras.datasets import mnist\n",
        "from keras.models import Sequential\n",
        "from keras.layers import Dense, Dropout\n",
        "from keras.optimizers import RMSprop\n",
        "from keras.utils.vis_utils import plot_model\n",
        "import matplotlib.pyplot as plt\n",
        "from random import randint\n",
        "import skimage.io"
      ],
      "execution_count": 2,
      "outputs": [
        {
          "output_type": "stream",
          "text": [
            "Using TensorFlow backend.\n"
          ],
          "name": "stderr"
        }
      ]
    },
    {
      "metadata": {
        "id": "qbaUjmXGdgcP",
        "colab_type": "code",
        "outputId": "12a324ca-583e-40b8-9efb-a289dc6a919d",
        "colab": {
          "base_uri": "https://localhost:8080/",
          "height": 910
        }
      },
      "cell_type": "code",
      "source": [
        "batch_size = 128  # сколько изображений задействовать для одного обновления весов в градиентном спуске\n",
        "epochs = 20       # сколько сделать полных проходов по датасету\n",
        "num_classes = 10  # 0, ..., 9\n",
        "\n",
        "\n",
        "# Обучающая выборка - 60К изображений, тестовая - 10К, размер каждого изображения - 28 х 28 \n",
        "(x_train, y_train), (x_test, y_test) = mnist.load_data()\n",
        "fig, ax = plt.subplots(2, 5)\n",
        "d = dict()\n",
        "while len(d) < 10:\n",
        "  for img, label in zip(x_train, y_train):\n",
        "    d[label] = img\n",
        "for i in range(2):\n",
        "  for j in range(5):\n",
        "    nx = 5*i + j\n",
        "    ax[i, j].imshow(d[nx])\n",
        "    ax[i, j].axis('off')\n",
        "plt.show()\n",
        "\n",
        "\n",
        "# Увеличенный пример\n",
        "ax = plt.gca()\n",
        "plt.imshow(d[8])\n",
        "plt.show()\n",
        "\n",
        "\n",
        "# Меняем форму данных, проводим нормализацию и затем проводим one-hot encoding\n",
        "x_train = x_train.reshape(60000, 784).astype('float32')\n",
        "x_test = x_test.reshape(10000, 784).astype('float32')\n",
        "\n",
        "x_train /= 255\n",
        "x_test /= 255\n",
        "\n",
        "y_train = keras.utils.to_categorical(y_train, num_classes)\n",
        "y_test = keras.utils.to_categorical(y_test, num_classes)\n",
        "\n",
        "\n",
        "# Послойно формируем модель\n",
        "model = Sequential()\n",
        "model.add(Dense(512, activation='relu', input_shape=(784,)))\n",
        "model.add(Dropout(0.2))\n",
        "model.add(Dense(512, activation='relu'))\n",
        "model.add(Dropout(0.2))\n",
        "model.add(Dense(num_classes, activation='softmax'))\n",
        "model.summary()\n",
        "\n",
        "\n",
        "# Назначаем модели функцию потерь, оптимизатор и метрики качества\n",
        "model.compile(loss='categorical_crossentropy',\n",
        "              optimizer=RMSprop(),\n",
        "              metrics=['accuracy'])"
      ],
      "execution_count": 3,
      "outputs": [
        {
          "output_type": "display_data",
          "data": {
            "image/png": "[encoded data removed]",
            "text/plain": [
              "<matplotlib.figure.Figure at 0x7f5d7ff0c6d8>"
            ]
          },
          "metadata": {
            "tags": []
          }
        },
        {
          "output_type": "display_data",
          "data": {
            "image/png": "[encoded data removed]",
            "text/plain": [
              "<matplotlib.figure.Figure at 0x7f5d7fe805f8>"
            ]
          },
          "metadata": {
            "tags": []
          }
        },
        {
          "output_type": "stream",
          "text": [
            "_________________________________________________________________\n",
            "Layer (type)                 Output Shape              Param #   \n",
            "=================================================================\n",
            "dense_1 (Dense)              (None, 512)               401920    \n",
            "_________________________________________________________________\n",
            "dropout_1 (Dropout)          (None, 512)               0         \n",
            "_________________________________________________________________\n",
            "dense_2 (Dense)              (None, 512)               262656    \n",
            "_________________________________________________________________\n",
            "dropout_2 (Dropout)          (None, 512)               0         \n",
            "_________________________________________________________________\n",
            "dense_3 (Dense)              (None, 10)                5130      \n",
            "=================================================================\n",
            "Total params: 669,706\n",
            "Trainable params: 669,706\n",
            "Non-trainable params: 0\n",
            "_________________________________________________________________\n"
          ],
          "name": "stdout"
        }
      ]
    },
    {
      "metadata": {
        "id": "JOZU4-OGdkvs",
        "colab_type": "code",
        "outputId": "fecdf378-6289-4d30-aee6-bce8dff3dbd0",
        "colab": {
          "base_uri": "https://localhost:8080/",
          "height": 1754
        }
      },
      "cell_type": "code",
      "source": [
        "# Обучаем модель\n",
        "history = model.fit(x_train, y_train,\n",
        "                    batch_size=batch_size,\n",
        "                    epochs=50,\n",
        "                    verbose=1,\n",
        "                    validation_data=(x_test, y_test))"
      ],
      "execution_count": 5,
      "outputs": [
        {
          "output_type": "stream",
          "text": [
            "Train on 60000 samples, validate on 10000 samples\n",
            "Epoch 1/50\n",
            "60000/60000 [==============================] - 6s 93us/step - loss: 0.2451 - acc: 0.9242 - val_loss: 0.1161 - val_acc: 0.9647\n",
            "Epoch 2/50\n",
            "60000/60000 [==============================] - 3s 54us/step - loss: 0.1041 - acc: 0.9683 - val_loss: 0.1043 - val_acc: 0.9661\n",
            "Epoch 3/50\n",
            "60000/60000 [==============================] - 3s 55us/step - loss: 0.0763 - acc: 0.9772 - val_loss: 0.0760 - val_acc: 0.9765\n",
            "Epoch 4/50\n",
            "60000/60000 [==============================] - 3s 54us/step - loss: 0.0611 - acc: 0.9817 - val_loss: 0.0753 - val_acc: 0.9813\n",
            "Epoch 5/50\n",
            "60000/60000 [==============================] - 3s 53us/step - loss: 0.0489 - acc: 0.9854 - val_loss: 0.0731 - val_acc: 0.9807\n",
            "Epoch 6/50\n",
            "60000/60000 [==============================] - 3s 54us/step - loss: 0.0435 - acc: 0.9872 - val_loss: 0.0840 - val_acc: 0.9782\n",
            "Epoch 7/50\n",
            "60000/60000 [==============================] - 3s 53us/step - loss: 0.0378 - acc: 0.9884 - val_loss: 0.0746 - val_acc: 0.9820\n",
            "Epoch 8/50\n",
            "60000/60000 [==============================] - 3s 57us/step - loss: 0.0346 - acc: 0.9895 - val_loss: 0.0695 - val_acc: 0.9829\n",
            "Epoch 9/50\n",
            "60000/60000 [==============================] - 3s 53us/step - loss: 0.0320 - acc: 0.9906 - val_loss: 0.0898 - val_acc: 0.9804\n",
            "Epoch 10/50\n",
            "60000/60000 [==============================] - 3s 54us/step - loss: 0.0277 - acc: 0.9918 - val_loss: 0.1010 - val_acc: 0.9803\n",
            "Epoch 11/50\n",
            "60000/60000 [==============================] - 3s 54us/step - loss: 0.0276 - acc: 0.9917 - val_loss: 0.0832 - val_acc: 0.9828\n",
            "Epoch 12/50\n",
            "60000/60000 [==============================] - 3s 53us/step - loss: 0.0231 - acc: 0.9929 - val_loss: 0.0985 - val_acc: 0.9828\n",
            "Epoch 13/50\n",
            "60000/60000 [==============================] - 3s 54us/step - loss: 0.0231 - acc: 0.9936 - val_loss: 0.0987 - val_acc: 0.9825\n",
            "Epoch 14/50\n",
            "60000/60000 [==============================] - 3s 54us/step - loss: 0.0219 - acc: 0.9939 - val_loss: 0.0930 - val_acc: 0.9843\n",
            "Epoch 15/50\n",
            "60000/60000 [==============================] - 3s 54us/step - loss: 0.0203 - acc: 0.9942 - val_loss: 0.0986 - val_acc: 0.9837\n",
            "Epoch 16/50\n",
            "60000/60000 [==============================] - 3s 54us/step - loss: 0.0211 - acc: 0.9943 - val_loss: 0.1027 - val_acc: 0.9824\n",
            "Epoch 17/50\n",
            "60000/60000 [==============================] - 3s 54us/step - loss: 0.0193 - acc: 0.9947 - val_loss: 0.1042 - val_acc: 0.9830\n",
            "Epoch 18/50\n",
            "60000/60000 [==============================] - 3s 54us/step - loss: 0.0182 - acc: 0.9950 - val_loss: 0.1094 - val_acc: 0.9812\n",
            "Epoch 19/50\n",
            "60000/60000 [==============================] - 3s 55us/step - loss: 0.0154 - acc: 0.9956 - val_loss: 0.1235 - val_acc: 0.9823\n",
            "Epoch 20/50\n",
            "60000/60000 [==============================] - 3s 54us/step - loss: 0.0181 - acc: 0.9952 - val_loss: 0.1134 - val_acc: 0.9828\n",
            "Epoch 21/50\n",
            "60000/60000 [==============================] - 3s 54us/step - loss: 0.0171 - acc: 0.9956 - val_loss: 0.1256 - val_acc: 0.9816\n",
            "Epoch 22/50\n",
            "60000/60000 [==============================] - 3s 54us/step - loss: 0.0176 - acc: 0.9958 - val_loss: 0.1175 - val_acc: 0.9821\n",
            "Epoch 23/50\n",
            "60000/60000 [==============================] - 3s 53us/step - loss: 0.0156 - acc: 0.9961 - val_loss: 0.1161 - val_acc: 0.9829\n",
            "Epoch 24/50\n",
            "60000/60000 [==============================] - 3s 53us/step - loss: 0.0145 - acc: 0.9961 - val_loss: 0.1308 - val_acc: 0.9818\n",
            "Epoch 25/50\n",
            "60000/60000 [==============================] - 3s 54us/step - loss: 0.0151 - acc: 0.9962 - val_loss: 0.1310 - val_acc: 0.9821\n",
            "Epoch 26/50\n",
            "60000/60000 [==============================] - 3s 55us/step - loss: 0.0163 - acc: 0.9961 - val_loss: 0.1327 - val_acc: 0.9831\n",
            "Epoch 27/50\n",
            "60000/60000 [==============================] - 3s 55us/step - loss: 0.0133 - acc: 0.9967 - val_loss: 0.1145 - val_acc: 0.9842\n",
            "Epoch 28/50\n",
            "60000/60000 [==============================] - 3s 56us/step - loss: 0.0132 - acc: 0.9970 - val_loss: 0.1186 - val_acc: 0.9841\n",
            "Epoch 29/50\n",
            "60000/60000 [==============================] - 3s 54us/step - loss: 0.0138 - acc: 0.9966 - val_loss: 0.1266 - val_acc: 0.9839\n",
            "Epoch 30/50\n",
            "60000/60000 [==============================] - 3s 55us/step - loss: 0.0131 - acc: 0.9966 - val_loss: 0.1371 - val_acc: 0.9828\n",
            "Epoch 31/50\n",
            "60000/60000 [==============================] - 3s 57us/step - loss: 0.0131 - acc: 0.9970 - val_loss: 0.1242 - val_acc: 0.9841\n",
            "Epoch 32/50\n",
            "60000/60000 [==============================] - 3s 55us/step - loss: 0.0127 - acc: 0.9970 - val_loss: 0.1235 - val_acc: 0.9846\n",
            "Epoch 33/50\n",
            "60000/60000 [==============================] - 3s 54us/step - loss: 0.0126 - acc: 0.9969 - val_loss: 0.1397 - val_acc: 0.9831\n",
            "Epoch 34/50\n",
            "60000/60000 [==============================] - 3s 54us/step - loss: 0.0126 - acc: 0.9972 - val_loss: 0.1330 - val_acc: 0.9824\n",
            "Epoch 35/50\n",
            "60000/60000 [==============================] - 3s 53us/step - loss: 0.0128 - acc: 0.9971 - val_loss: 0.1383 - val_acc: 0.9840\n",
            "Epoch 36/50\n",
            "60000/60000 [==============================] - 3s 53us/step - loss: 0.0128 - acc: 0.9971 - val_loss: 0.1599 - val_acc: 0.9810\n",
            "Epoch 37/50\n",
            "60000/60000 [==============================] - 3s 55us/step - loss: 0.0112 - acc: 0.9973 - val_loss: 0.1392 - val_acc: 0.9845\n",
            "Epoch 38/50\n",
            "60000/60000 [==============================] - 3s 55us/step - loss: 0.0111 - acc: 0.9975 - val_loss: 0.1396 - val_acc: 0.9839\n",
            "Epoch 39/50\n",
            "60000/60000 [==============================] - 3s 58us/step - loss: 0.0126 - acc: 0.9975 - val_loss: 0.1421 - val_acc: 0.9831\n",
            "Epoch 40/50\n",
            "60000/60000 [==============================] - 3s 53us/step - loss: 0.0122 - acc: 0.9975 - val_loss: 0.1441 - val_acc: 0.9835\n",
            "Epoch 41/50\n",
            "60000/60000 [==============================] - 3s 54us/step - loss: 0.0109 - acc: 0.9974 - val_loss: 0.1397 - val_acc: 0.9828\n",
            "Epoch 42/50\n",
            "60000/60000 [==============================] - 3s 53us/step - loss: 0.0126 - acc: 0.9971 - val_loss: 0.1408 - val_acc: 0.9840\n",
            "Epoch 43/50\n",
            "60000/60000 [==============================] - 3s 53us/step - loss: 0.0113 - acc: 0.9977 - val_loss: 0.1381 - val_acc: 0.9837\n",
            "Epoch 44/50\n",
            "60000/60000 [==============================] - 3s 53us/step - loss: 0.0130 - acc: 0.9974 - val_loss: 0.1473 - val_acc: 0.9842\n",
            "Epoch 45/50\n",
            "60000/60000 [==============================] - 3s 53us/step - loss: 0.0112 - acc: 0.9975 - val_loss: 0.1389 - val_acc: 0.9843\n",
            "Epoch 46/50\n",
            "60000/60000 [==============================] - 3s 53us/step - loss: 0.0105 - acc: 0.9977 - val_loss: 0.1490 - val_acc: 0.9825\n",
            "Epoch 47/50\n",
            "60000/60000 [==============================] - 3s 54us/step - loss: 0.0107 - acc: 0.9979 - val_loss: 0.1408 - val_acc: 0.9845\n",
            "Epoch 48/50\n",
            "60000/60000 [==============================] - 3s 53us/step - loss: 0.0087 - acc: 0.9980 - val_loss: 0.1416 - val_acc: 0.9851\n",
            "Epoch 49/50\n",
            "60000/60000 [==============================] - 3s 53us/step - loss: 0.0098 - acc: 0.9980 - val_loss: 0.1518 - val_acc: 0.9836\n",
            "Epoch 50/50\n",
            "60000/60000 [==============================] - 3s 53us/step - loss: 0.0113 - acc: 0.9979 - val_loss: 0.1543 - val_acc: 0.9841\n"
          ],
          "name": "stdout"
        }
      ]
    },
    {
      "metadata": {
        "id": "Xtj4GMs7dmky",
        "colab_type": "code",
        "outputId": "f9f17580-5872-410a-97e6-7e36e35ac28f",
        "colab": {
          "base_uri": "https://localhost:8080/",
          "height": 51
        }
      },
      "cell_type": "code",
      "source": [
        "# Вычисляем метрику качества и функцию потерь для тестовых данных\n",
        "score = model.evaluate(x_test, y_test, verbose=0)\n",
        "print('Test loss:', score[0])\n",
        "print('Test accuracy:', score[1])"
      ],
      "execution_count": 0,
      "outputs": [
        {
          "output_type": "stream",
          "text": [
            "Test loss: 0.08974071440300894\n",
            "Test accuracy: 0.9812\n"
          ],
          "name": "stdout"
        }
      ]
    }
  ]
}